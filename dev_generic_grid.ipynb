{
 "cells": [
  {
   "cell_type": "code",
   "execution_count": 12,
   "metadata": {},
   "outputs": [
    {
     "name": "stdout",
     "output_type": "stream",
     "text": [
      "The autoreload extension is already loaded. To reload it, use:\n",
      "  %reload_ext autoreload\n"
     ]
    }
   ],
   "source": [
    "from dynamic_grid import Element, Grid\n",
    "\n",
    "%load_ext autoreload\n",
    "%autoreload 2"
   ]
  },
  {
   "cell_type": "code",
   "execution_count": 28,
   "metadata": {},
   "outputs": [
    {
     "name": "stdout",
     "output_type": "stream",
     "text": [
      "[[0 1 0 1 0 0 0 0 0]\n",
      " [1 0 1 0 1 0 0 0 0]\n",
      " [0 1 0 0 0 1 0 0 0]\n",
      " [1 0 0 0 1 0 1 0 0]\n",
      " [0 1 0 1 0 1 0 1 0]\n",
      " [0 0 1 0 1 0 0 0 1]\n",
      " [0 0 0 1 0 0 0 1 0]\n",
      " [0 0 0 0 1 0 1 0 1]\n",
      " [0 0 0 0 0 1 0 1 0]]\n",
      "[[0 0 0 0 0 0 0 0 0]\n",
      " [0 0 0 0 0 0 0 0 0]\n",
      " [0 0 0 0 0 0 0 0 0]\n",
      " [0 0 0 0 0 0 0 0 0]\n",
      " [0 0 0 0 0 0 0 0 0]\n",
      " [0 0 0 0 0 0 0 0 0]\n",
      " [0 0 0 0 0 0 0 0 0]\n",
      " [0 0 0 0 0 0 0 0 0]\n",
      " [0 0 0 0 0 0 0 0 0]]\n",
      "[[0 1 0 1 0 0 0 0 0]\n",
      " [1 0 1 0 1 0 0 0 0]\n",
      " [0 0 0 0 0 1 0 0 0]\n",
      " [0 0 0 0 0 0 1 0 0]\n",
      " [0 0 0 0 0 0 0 1 0]\n",
      " [0 0 0 0 0 0 0 0 1]\n",
      " [0 0 0 0 0 0 0 0 0]\n",
      " [0 0 0 0 0 0 0 0 0]\n",
      " [0 0 0 0 0 0 0 0 0]]\n",
      "deque([0, 3, 6, 1, 4, 7, 2, 5, 8])\n"
     ]
    }
   ],
   "source": [
    "crit_radius = 1\n",
    "coords = [(0,0), (0,1), (0,2),\n",
    "          (1,0), (1,1), (1,2),\n",
    "          (2,0), (2,1), (2,2),]\n",
    "mygrid = Grid(coords=coords,\n",
    "              element_class=Element,\n",
    "              crit_radius=crit_radius)\n",
    "print(mygrid.A.astype(int))  # these are the neighborhood connectivities\n",
    "print(mygrid.G.astype(int))  # the diffusing grid has no connections\n",
    "\n",
    "for e in mygrid.elements:\n",
    "    e.target = e.neighbors[0]\n",
    "    \n",
    "print(mygrid.G.astype(int))  # now each element targets its first neighbor\n",
    "walk = mygrid.walk_graph(mygrid.elements[0])\n",
    "print(walk)  # Here is a bottom-up traversal starting at element 0"
   ]
  }
 ],
 "metadata": {
  "kernelspec": {
   "display_name": "Python 3",
   "language": "python",
   "name": "python3"
  },
  "language_info": {
   "codemirror_mode": {
    "name": "ipython",
    "version": 3
   },
   "file_extension": ".py",
   "mimetype": "text/x-python",
   "name": "python",
   "nbconvert_exporter": "python",
   "pygments_lexer": "ipython3",
   "version": "3.6.10"
  }
 },
 "nbformat": 4,
 "nbformat_minor": 4
}
