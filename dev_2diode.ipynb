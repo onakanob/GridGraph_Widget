{
 "cells": [
  {
   "cell_type": "code",
   "execution_count": 57,
   "metadata": {},
   "outputs": [
    {
     "name": "stdout",
     "output_type": "stream",
     "text": [
      "The autoreload extension is already loaded. To reload it, use:\n",
      "  %reload_ext autoreload\n"
     ]
    }
   ],
   "source": [
    "import numpy as np\n",
    "from matplotlib import pyplot as plt\n",
    "\n",
    "%matplotlib inline\n",
    "plt.rcParams['figure.figsize'] = (10.0, 8.0) # set default size of plots\n",
    "plt.rcParams['image.interpolation'] = 'nearest'\n",
    "plt.rcParams['image.cmap'] = 'gray'\n",
    "\n",
    "# for auto-reloading extenrnal modules\n",
    "# see http://stackoverflow.com/questions/1907993/autoreload-of-modules-in-ipython\n",
    "%load_ext autoreload\n",
    "%autoreload 2"
   ]
  },
  {
   "cell_type": "code",
   "execution_count": 91,
   "metadata": {},
   "outputs": [],
   "source": [
    "from gridgraph.volt_grid import Voltage_Element, VoltageGrid\n",
    "from gridgraph.volt_handlers import Dual_Diode_Handler\n",
    "from gridgraph.utils import param_loader\n",
    "\n",
    "from gridgraph.finite_grid import Element, DiffusionGrid\n",
    "from gridgraph.power_handlers import lossy_handler"
   ]
  },
  {
   "cell_type": "markdown",
   "metadata": {},
   "source": [
    "# Messing around with pieces of solver"
   ]
  },
  {
   "cell_type": "code",
   "execution_count": 59,
   "metadata": {},
   "outputs": [],
   "source": [
    "params = param_loader('./recipes/1 cm test.csv')\n",
    "params['elements_per_side'] = 2\n",
    "\n",
    "my_grid = VoltageGrid(element_class=Voltage_Element,\n",
    "                     solver_type=Dual_Diode_Handler,\n",
    "                     params=params)"
   ]
  },
  {
   "cell_type": "code",
   "execution_count": 212,
   "metadata": {},
   "outputs": [
    {
     "name": "stdout",
     "output_type": "stream",
     "text": [
      "best power:  0.589 V\n",
      "Voc: 0.6718176363440258\n",
      "Joc: 3.132942517827114e-09\n"
     ]
    },
    {
     "data": {
      "text/plain": [
       "[<matplotlib.lines.Line2D at 0x1f50c753128>]"
      ]
     },
     "execution_count": 212,
     "metadata": {},
     "output_type": "execute_result"
    },
    {
     "data": {
      "image/png": "[encoded data removed]",
      "text/plain": [
       "<Figure size 720x576 with 1 Axes>"
      ]
     },
     "metadata": {
      "needs_background": "light"
     },
     "output_type": "display_data"
    }
   ],
   "source": [
    "# Test out cvxpy Voc finder\n",
    "from gridgraph.volt_grid import find_Voc\n",
    "handler = Dual_Diode_Handler(params)\n",
    "\n",
    "V = np.arange(0, .69, .001)\n",
    "plt.plot(V, handler.local_Jsol(V))\n",
    "plt.plot(V, V * handler.local_Jsol(V))\n",
    "print('best power: ', V[np.argmax(V * handler.local_Jsol(V))], 'V')\n",
    "\n",
    "Voc = find_Voc(handler.local_Jsol)\n",
    "print('Voc:', Voc)\n",
    "print('Joc:', handler.local_Jsol(Voc))\n",
    "plt.plot(Voc, handler.local_Jsol(Voc), 'x')"
   ]
  },
  {
   "cell_type": "code",
   "execution_count": 61,
   "metadata": {},
   "outputs": [
    {
     "name": "stdout",
     "output_type": "stream",
     "text": [
      "Neighbors:\n",
      "[[1, 2], [0, 3], [0, 3], [1, 2]]\n",
      "Targets:\n",
      "[]\n",
      "Sink index:  2\n"
     ]
    }
   ],
   "source": [
    "# Check neighbors - should be two per node\n",
    "print('Neighbors:')\n",
    "print([[n.idx for n in e.neighbors] for e in my_grid.elements])\n",
    "\n",
    "# Check targets - everything should be isolated\n",
    "print('Targets:')\n",
    "print([[n.idx for n in e.target] for e in my_grid.elements if (e.target is not None)])\n",
    "\n",
    "print('Sink index:  ' + str(my_grid.sink.idx))"
   ]
  },
  {
   "cell_type": "code",
   "execution_count": 63,
   "metadata": {},
   "outputs": [
    {
     "name": "stdout",
     "output_type": "stream",
     "text": [
      "[0.6718176363440258, 0.6718176363440258, 0.6718176363440258, 0.6718176363440258]\n"
     ]
    }
   ],
   "source": [
    "# Check voltages - everything should initialize to Voc\n",
    "print(my_grid.Vs)"
   ]
  },
  {
   "cell_type": "code",
   "execution_count": 65,
   "metadata": {},
   "outputs": [
    {
     "name": "stdout",
     "output_type": "stream",
     "text": [
      "[None, None, None, None]\n"
     ]
    }
   ],
   "source": [
    "# Get Current\n",
    "print(my_grid.Is)"
   ]
  },
  {
   "cell_type": "markdown",
   "metadata": {},
   "source": [
    "# Develop the integrated solver"
   ]
  },
  {
   "cell_type": "code",
   "execution_count": 502,
   "metadata": {},
   "outputs": [],
   "source": [
    "params = param_loader('./recipes/1 cm test.csv')\n",
    "params['elements_per_side'] = 2\n",
    "\n",
    "my_grid = VoltageGrid(element_class=Voltage_Element,\n",
    "                     solver_type=Dual_Diode_Handler,\n",
    "                     params=params)"
   ]
  },
  {
   "cell_type": "code",
   "execution_count": 503,
   "metadata": {},
   "outputs": [
    {
     "name": "stdout",
     "output_type": "stream",
     "text": [
      "Initialized Targets:\n",
      "[2, 0, 'None', 2]\n"
     ]
    }
   ],
   "source": [
    "from autograd import grad\n",
    "\n",
    "# Set up the graph\n",
    "my_grid.elements[0].target = my_grid.sink\n",
    "my_grid.elements[3].target = my_grid.sink\n",
    "my_grid.elements[1].target = my_grid.elements[0]\n",
    "\n",
    "print('Initialized Targets:')\n",
    "print(['None' if e.target is None else e.target.idx for e in my_grid.elements])\n",
    "\n",
    "dP = grad(my_grid.power)\n",
    "my_grid.V = my_grid.sink.V\n",
    "lr = 5e-1"
   ]
  },
  {
   "cell_type": "code",
   "execution_count": 544,
   "metadata": {},
   "outputs": [
    {
     "name": "stdout",
     "output_type": "stream",
     "text": [
      "Voltage: [0.5873750332621026, 0.5998400026989184, 0.5774978199134815, 0.5898753170044458]\n",
      "Current: [0.008302027162492447, 0.004130600435243698, 0.016641569957595987, 0.004218803876272808]\n",
      "Power: Autograd ArrayBox with value 0.00961047037044937\n",
      "dP/dV: 3.8261919044661275e-06\n",
      "New voltage: 0.5774997330094337\n",
      "\n"
     ]
    }
   ],
   "source": [
    "# One training iteration\n",
    "\n",
    "power = my_grid.power(my_grid.V)\n",
    "print('Voltage:', my_grid.Vs)\n",
    "print('Current:', my_grid.Is)\n",
    "print('Power:', power)\n",
    "gradient = dP(my_grid.V)\n",
    "print('dP/dV:', gradient)\n",
    "my_grid.V += lr * gradient\n",
    "# TODO update targets here\n",
    "print('New voltage:', my_grid.V)"
   ]
  }
 ],
 "metadata": {
  "kernelspec": {
   "display_name": "Python 3",
   "language": "python",
   "name": "python3"
  },
  "language_info": {
   "codemirror_mode": {
    "name": "ipython",
    "version": 3
   },
   "file_extension": ".py",
   "mimetype": "text/x-python",
   "name": "python",
   "nbconvert_exporter": "python",
   "pygments_lexer": "ipython3",
   "version": "3.6.10"
  }
 },
 "nbformat": 4,
 "nbformat_minor": 4
}
